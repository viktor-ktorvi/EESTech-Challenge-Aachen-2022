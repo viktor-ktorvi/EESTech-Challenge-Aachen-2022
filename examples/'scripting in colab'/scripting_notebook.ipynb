{
  "nbformat": 4,
  "nbformat_minor": 0,
  "metadata": {
    "colab": {
      "name": "scripting_notebook.ipynb",
      "provenance": [],
      "collapsed_sections": [],
      "authorship_tag": "ABX9TyN7PGkfWligxCLx3njzLOHs",
      "include_colab_link": true
    },
    "kernelspec": {
      "name": "python3",
      "display_name": "Python 3"
    },
    "language_info": {
      "name": "python"
    }
  },
  "cells": [
    {
      "cell_type": "markdown",
      "metadata": {
        "id": "view-in-github",
        "colab_type": "text"
      },
      "source": [
        "<a href=\"https://colab.research.google.com/github/viktor-ktorvi/EESTech-Challenge-Aachen-2022/blob/main/examples/'scripting%20in%20colab'/scripting_notebook.ipynb\" target=\"_parent\"><img src=\"https://colab.research.google.com/assets/colab-badge.svg\" alt=\"Open In Colab\"/></a>"
      ]
    },
    {
      "cell_type": "markdown",
      "source": [
        "# Running a script form GitHub in Colab"
      ],
      "metadata": {
        "id": "cWe4pR0-L8Ym"
      }
    },
    {
      "cell_type": "markdown",
      "source": [
        "## Clone the repo"
      ],
      "metadata": {
        "id": "L5CVlWL3NDxX"
      }
    },
    {
      "cell_type": "code",
      "execution_count": 1,
      "metadata": {
        "colab": {
          "base_uri": "https://localhost:8080/"
        },
        "id": "Qw4Z6QhVL1OO",
        "outputId": "e7a5d3db-634d-401a-ae11-919d93e17b14"
      },
      "outputs": [
        {
          "output_type": "stream",
          "name": "stdout",
          "text": [
            "Cloning into 'EESTech-Challenge-Aachen-2022'...\n",
            "remote: Enumerating objects: 20, done.\u001b[K\n",
            "remote: Counting objects: 100% (20/20), done.\u001b[K\n",
            "remote: Compressing objects: 100% (17/17), done.\u001b[K\n",
            "remote: Total 20 (delta 5), reused 6 (delta 1), pack-reused 0\u001b[K\n",
            "Unpacking objects: 100% (20/20), done.\n"
          ]
        }
      ],
      "source": [
        "!git clone https://github.com/viktor-ktorvi/EESTech-Challenge-Aachen-2022.git"
      ]
    },
    {
      "cell_type": "markdown",
      "source": [
        "## Navigate to the script"
      ],
      "metadata": {
        "id": "LX_aIPJwNHtB"
      }
    },
    {
      "cell_type": "code",
      "source": [
        "!pwd\n",
        "!ls"
      ],
      "metadata": {
        "colab": {
          "base_uri": "https://localhost:8080/"
        },
        "id": "GoI0YkfXMKvt",
        "outputId": "e6fbfca6-0356-4dbd-def2-f108197ceee3"
      },
      "execution_count": 3,
      "outputs": [
        {
          "output_type": "stream",
          "name": "stdout",
          "text": [
            "/content\n",
            "EESTech-Challenge-Aachen-2022  sample_data\n"
          ]
        }
      ]
    },
    {
      "cell_type": "code",
      "source": [
        "%cd EESTech-Challenge-Aachen-2022"
      ],
      "metadata": {
        "colab": {
          "base_uri": "https://localhost:8080/"
        },
        "id": "gGoL_pvQMUF3",
        "outputId": "81af7fdd-148c-4ea9-d09e-4659512ca1f7"
      },
      "execution_count": 7,
      "outputs": [
        {
          "output_type": "stream",
          "name": "stdout",
          "text": [
            "[Errno 2] No such file or directory: 'EESTech-Challenge-Aachen-2022'\n",
            "/content/EESTech-Challenge-Aachen-2022\n"
          ]
        }
      ]
    },
    {
      "cell_type": "code",
      "source": [
        "!ls"
      ],
      "metadata": {
        "colab": {
          "base_uri": "https://localhost:8080/"
        },
        "id": "lKB5mq1QMZsH",
        "outputId": "1d9d8dba-2e5a-45fa-8977-bd3c2d884136"
      },
      "execution_count": 9,
      "outputs": [
        {
          "output_type": "stream",
          "name": "stdout",
          "text": [
            "examples  README.md\n"
          ]
        }
      ]
    },
    {
      "cell_type": "code",
      "source": [
        "%cd examples"
      ],
      "metadata": {
        "colab": {
          "base_uri": "https://localhost:8080/"
        },
        "id": "2pB6n8ElMyhc",
        "outputId": "e5f82f21-9cda-493f-a9b3-9fce1aa6fe4b"
      },
      "execution_count": 14,
      "outputs": [
        {
          "output_type": "stream",
          "name": "stdout",
          "text": [
            "/content/EESTech-Challenge-Aachen-2022/examples\n"
          ]
        }
      ]
    },
    {
      "cell_type": "code",
      "source": [
        "!ls"
      ],
      "metadata": {
        "colab": {
          "base_uri": "https://localhost:8080/"
        },
        "id": "T1yMprJaM6l3",
        "outputId": "24e14f42-a09f-4222-c42f-c70107314b3d"
      },
      "execution_count": 15,
      "outputs": [
        {
          "output_type": "stream",
          "name": "stdout",
          "text": [
            "'integrating colab with github.ipynb'  'scripting in colab'\n"
          ]
        }
      ]
    },
    {
      "cell_type": "code",
      "source": [
        "%cd 'scripting in colab'"
      ],
      "metadata": {
        "colab": {
          "base_uri": "https://localhost:8080/"
        },
        "id": "1wZuxD91M9uP",
        "outputId": "9ee6a7af-ad3e-46e5-a4de-416175c9bb4a"
      },
      "execution_count": 16,
      "outputs": [
        {
          "output_type": "stream",
          "name": "stdout",
          "text": [
            "/content/EESTech-Challenge-Aachen-2022/examples/scripting in colab\n"
          ]
        }
      ]
    },
    {
      "cell_type": "code",
      "source": [
        "! ls"
      ],
      "metadata": {
        "colab": {
          "base_uri": "https://localhost:8080/"
        },
        "id": "a-7-v9h5NLJE",
        "outputId": "110ee73c-8de3-465b-b570-8e88100ca42c"
      },
      "execution_count": 17,
      "outputs": [
        {
          "output_type": "stream",
          "name": "stdout",
          "text": [
            "my_script.py\n"
          ]
        }
      ]
    },
    {
      "cell_type": "markdown",
      "source": [
        "## Run the script"
      ],
      "metadata": {
        "id": "HOeRylFYNMtb"
      }
    },
    {
      "cell_type": "code",
      "source": [
        "!cat my_script.py # peek at the script"
      ],
      "metadata": {
        "colab": {
          "base_uri": "https://localhost:8080/"
        },
        "id": "TuRxbuRDNU97",
        "outputId": "4516d024-413c-49b4-83f3-9bc838b77d79"
      },
      "execution_count": 20,
      "outputs": [
        {
          "output_type": "stream",
          "name": "stdout",
          "text": [
            "if __name__ == '__main__':\n",
            "    print('This is my script')"
          ]
        }
      ]
    },
    {
      "cell_type": "code",
      "source": [
        "!python my_script.py"
      ],
      "metadata": {
        "colab": {
          "base_uri": "https://localhost:8080/"
        },
        "id": "hKZCT2X5NPSx",
        "outputId": "bb59d64b-3b1e-4706-a3d2-0f17f377735b"
      },
      "execution_count": 18,
      "outputs": [
        {
          "output_type": "stream",
          "name": "stdout",
          "text": [
            "This is my script\n"
          ]
        }
      ]
    }
  ]
}