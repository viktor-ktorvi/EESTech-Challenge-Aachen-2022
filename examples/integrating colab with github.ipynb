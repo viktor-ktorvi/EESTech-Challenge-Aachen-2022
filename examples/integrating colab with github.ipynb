{
  "nbformat": 4,
  "nbformat_minor": 0,
  "metadata": {
    "colab": {
      "name": "Untitled0.ipynb",
      "provenance": [],
      "authorship_tag": "ABX9TyPTSZkUrNG9NqSn1iOld9w9",
      "include_colab_link": true
    },
    "kernelspec": {
      "name": "python3",
      "display_name": "Python 3"
    },
    "language_info": {
      "name": "python"
    }
  },
  "cells": [
    {
      "cell_type": "markdown",
      "metadata": {
        "id": "view-in-github",
        "colab_type": "text"
      },
      "source": [
        "<a href=\"https://colab.research.google.com/github/viktor-ktorvi/EESTech-Challenge-Aachen-2022/blob/main/examples/integrating%20colab%20with%20github.ipynb\" target=\"_parent\"><img src=\"https://colab.research.google.com/assets/colab-badge.svg\" alt=\"Open In Colab\"/></a>"
      ]
    },
    {
      "cell_type": "markdown",
      "source": [
        "# Example notebook - integrating with GitHub"
      ],
      "metadata": {
        "id": "TmXTNgXn9PFa"
      }
    },
    {
      "cell_type": "code",
      "execution_count": null,
      "metadata": {
        "id": "a9MfAXjq9Ixn"
      },
      "outputs": [],
      "source": [
        ""
      ]
    }
  ]
}