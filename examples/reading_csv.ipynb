{
  "nbformat": 4,
  "nbformat_minor": 0,
  "metadata": {
    "colab": {
      "name": "Untitled1.ipynb",
      "provenance": [],
      "authorship_tag": "ABX9TyPrCgTEzARCF0y/mA17X7Y+",
      "include_colab_link": true
    },
    "kernelspec": {
      "name": "python3",
      "display_name": "Python 3"
    },
    "language_info": {
      "name": "python"
    }
  },
  "cells": [
    {
      "cell_type": "markdown",
      "metadata": {
        "id": "view-in-github",
        "colab_type": "text"
      },
      "source": [
        "<a href=\"https://colab.research.google.com/github/viktor-ktorvi/EESTech-Challenge-Aachen-2022/blob/main/examples/reading_csv.ipynb\" target=\"_parent\"><img src=\"https://colab.research.google.com/assets/colab-badge.svg\" alt=\"Open In Colab\"/></a>"
      ]
    },
    {
      "cell_type": "markdown",
      "source": [
        "# Profiling data"
      ],
      "metadata": {
        "id": "FpNcu0Xjgbg3"
      }
    },
    {
      "cell_type": "code",
      "execution_count": 13,
      "metadata": {
        "colab": {
          "base_uri": "https://localhost:8080/"
        },
        "id": "WgH06buugate",
        "outputId": "ecd9533c-dac0-4021-f7c4-e008200b87f8"
      },
      "outputs": [
        {
          "output_type": "stream",
          "name": "stdout",
          "text": [
            "--2022-05-02 17:04:32--  https://drive.google.com/file/d/1Wfr54pFcyryS7Mmspe_A_Ni7KsgdBsHT/view?usp=sharing\n",
            "Resolving drive.google.com (drive.google.com)... 172.217.203.138, 172.217.203.113, 172.217.203.101, ...\n",
            "Connecting to drive.google.com (drive.google.com)|172.217.203.138|:443... connected.\n",
            "HTTP request sent, awaiting response... 200 OK\n",
            "Length: unspecified [text/html]\n",
            "Saving to: ‘train_titanic.csv’\n",
            "\n",
            "train_titanic.csv       [ <=>                ]  63.79K  --.-KB/s    in 0.002s  \n",
            "\n",
            "2022-05-02 17:04:32 (32.8 MB/s) - ‘train_titanic.csv’ saved [65317]\n",
            "\n"
          ]
        }
      ],
      "source": [
        "!wget --no-check-certificate 'https://drive.google.com/file/d/1Wfr54pFcyryS7Mmspe_A_Ni7KsgdBsHT/view?usp=sharing' -O 'train_titanic.csv'"
      ]
    },
    {
      "cell_type": "code",
      "source": [
        "!ls"
      ],
      "metadata": {
        "colab": {
          "base_uri": "https://localhost:8080/"
        },
        "id": "Fbjmln4Ti2aO",
        "outputId": "8700dfab-b9e2-4e3c-ba3e-68c801326cf3"
      },
      "execution_count": 14,
      "outputs": [
        {
          "output_type": "stream",
          "name": "stdout",
          "text": [
            " sample_data   train_titanic.csv  'view?usp=sharing'  'view?usp=sharing.1'\n"
          ]
        }
      ]
    }
  ]
}